{
 "cells": [
  {
   "cell_type": "markdown",
   "metadata": {},
   "source": [
    "# Exercise 03  \n",
    "### LIST  \n",
    "Berikut merupakan sejumlah latihan untuk kalian dalam praktek programa komputer Modul 3.  \n",
    "Pertama buatlah sebuah list dengan nama variabel \"biodata\" dan isikan elemen terdiri dari :\n",
    "* Nama\n",
    "* NIM\n",
    "* Umur\n",
    "* Kota Asal\n",
    "* Hobi  \n",
    "\n",
    "Berikut contoh yang kami berikan\n"
   ]
  },
  {
   "cell_type": "markdown",
   "metadata": {},
   "source": [
    "![](./image/1.png)"
   ]
  },
  {
   "cell_type": "code",
   "execution_count": 25,
   "metadata": {},
   "outputs": [],
   "source": [
    "#SOAL-1\n",
    "#BUATLAH LIST KALIAN DISINI\n",
    "biodata = [\"Aufa\", \"I0321070\", 19, \"Jakarta\", \"Bermain game\"]"
   ]
  },
  {
   "cell_type": "markdown",
   "metadata": {},
   "source": [
    "Sekarang list kalian sudah terdefinisi ke dalam sebuah variabel.  \n",
    "Selanjutnya adalah contoh unuk mengakses elemen list.  \n",
    "  \n",
    "![](./image/2.png)"
   ]
  },
  {
   "cell_type": "code",
   "execution_count": 26,
   "metadata": {},
   "outputs": [
    {
     "name": "stdout",
     "output_type": "stream",
     "text": [
      "BIODATA\n",
      "_____________\n",
      "Nama\t: Aufa \n",
      "NIM\t: I0321070 \n",
      "USIA\t: 19 \n",
      "Asal\t: Jakarta \n",
      "Hobi\t: Bermain game\n"
     ]
    }
   ],
   "source": [
    "#SOAL-2\n",
    "#TULISKAN KEMBALI KODE DIATAS SESUAI DATA KALIAN MASING-MASING DISINI\n",
    "print(\"BIODATA\\n_____________\\nNama\\t:\", biodata[0],\"\\nNIM\\t:\",biodata[1],\n",
    "        \"\\nUSIA\\t:\", biodata[2], \"\\nAsal\\t:\",biodata[3], \"\\nHobi\\t:\",biodata[4])"
   ]
  },
  {
   "cell_type": "markdown",
   "metadata": {},
   "source": [
    "Ternyata kita ingin menuliskan hobi lebih dari 1, maka selanjutnya kita akan mengubah hobi kita yang ada di list. Karena lebih dari 1 maka kita akan mengubah elemen hobi menjadi list of list.  \n",
    "\n",
    "![](./image/3.png)\n"
   ]
  },
  {
   "cell_type": "code",
   "execution_count": 27,
   "metadata": {},
   "outputs": [
    {
     "name": "stdout",
     "output_type": "stream",
     "text": [
      "['Aufa', 'I0321070', 19, 'Jakarta', ['Jogging', 'Game', 'Musik']]\n"
     ]
    }
   ],
   "source": [
    "#SOAL-3\n",
    "#TULISKAN KEMBALI KODE DIATAS SESUAI HOBI KALIAN DISINI\n",
    "biodata[4] = [\"Jogging\", \"Game\", \"Musik\"] \n",
    "print(biodata)"
   ]
  },
  {
   "cell_type": "markdown",
   "metadata": {},
   "source": [
    "NIM merupakan data privasi di kondisi tertentu, maka sebaiknya kita menghapus nya.  \n",
    "\n",
    "![](./image/4.png)\n"
   ]
  },
  {
   "cell_type": "code",
   "execution_count": 24,
   "metadata": {},
   "outputs": [
    {
     "ename": "ValueError",
     "evalue": "list.remove(x): x not in list",
     "output_type": "error",
     "traceback": [
      "\u001b[1;31m---------------------------------------------------------------------------\u001b[0m",
      "\u001b[1;31mValueError\u001b[0m                                Traceback (most recent call last)",
      "\u001b[1;32mc:\\Users\\Muflih Aufa Bekti\\OneDrive\\Documents\\AUFA\\SEMESTER 2\\PRAKTIKUM PROGRAM KOMPUTER\\I0321070-Muflih-Prokom\\Exercise-03\\03_Tipe Data Koleksi.ipynb Cell 9'\u001b[0m in \u001b[0;36m<cell line: 3>\u001b[1;34m()\u001b[0m\n\u001b[0;32m      <a href='vscode-notebook-cell:/c%3A/Users/Muflih%20Aufa%20Bekti/OneDrive/Documents/AUFA/SEMESTER%202/PRAKTIKUM%20PROGRAM%20KOMPUTER/I0321070-Muflih-Prokom/Exercise-03/03_Tipe%20Data%20Koleksi.ipynb#ch0000008?line=0'>1</a>\u001b[0m \u001b[39m#SOAL-4\u001b[39;00m\n\u001b[0;32m      <a href='vscode-notebook-cell:/c%3A/Users/Muflih%20Aufa%20Bekti/OneDrive/Documents/AUFA/SEMESTER%202/PRAKTIKUM%20PROGRAM%20KOMPUTER/I0321070-Muflih-Prokom/Exercise-03/03_Tipe%20Data%20Koleksi.ipynb#ch0000008?line=1'>2</a>\u001b[0m \u001b[39m#KERJAKAN PUNYA KALIAN DISINI\u001b[39;00m\n\u001b[1;32m----> <a href='vscode-notebook-cell:/c%3A/Users/Muflih%20Aufa%20Bekti/OneDrive/Documents/AUFA/SEMESTER%202/PRAKTIKUM%20PROGRAM%20KOMPUTER/I0321070-Muflih-Prokom/Exercise-03/03_Tipe%20Data%20Koleksi.ipynb#ch0000008?line=2'>3</a>\u001b[0m biodata\u001b[39m.\u001b[39;49mremove(\u001b[39m\"\u001b[39;49m\u001b[39mI0321070\u001b[39;49m\u001b[39m\"\u001b[39;49m)\n\u001b[0;32m      <a href='vscode-notebook-cell:/c%3A/Users/Muflih%20Aufa%20Bekti/OneDrive/Documents/AUFA/SEMESTER%202/PRAKTIKUM%20PROGRAM%20KOMPUTER/I0321070-Muflih-Prokom/Exercise-03/03_Tipe%20Data%20Koleksi.ipynb#ch0000008?line=3'>4</a>\u001b[0m \u001b[39mprint\u001b[39m(biodata)\n",
      "\u001b[1;31mValueError\u001b[0m: list.remove(x): x not in list"
     ]
    }
   ],
   "source": [
    "#SOAL-4\n",
    "#KERJAKAN PUNYA KALIAN DISINI\n",
    "biodata.remove(\"I0321070\")\n",
    "print(biodata)"
   ]
  },
  {
   "cell_type": "markdown",
   "metadata": {},
   "source": [
    "Untuk report final tuliskan kembali kode dengan format output seperti SOAL-2, namun dengan penyesuaian terhadap perubahan yang telah kalian lakukan sebelumnya."
   ]
  },
  {
   "cell_type": "code",
   "execution_count": 23,
   "metadata": {},
   "outputs": [
    {
     "ename": "IndexError",
     "evalue": "list index out of range",
     "output_type": "error",
     "traceback": [
      "\u001b[1;31m---------------------------------------------------------------------------\u001b[0m",
      "\u001b[1;31mIndexError\u001b[0m                                Traceback (most recent call last)",
      "\u001b[1;32mc:\\Users\\Muflih Aufa Bekti\\OneDrive\\Documents\\AUFA\\SEMESTER 2\\PRAKTIKUM PROGRAM KOMPUTER\\I0321070-Muflih-Prokom\\Exercise-03\\03_Tipe Data Koleksi.ipynb Cell 11'\u001b[0m in \u001b[0;36m<cell line: 3>\u001b[1;34m()\u001b[0m\n\u001b[0;32m      <a href='vscode-notebook-cell:/c%3A/Users/Muflih%20Aufa%20Bekti/OneDrive/Documents/AUFA/SEMESTER%202/PRAKTIKUM%20PROGRAM%20KOMPUTER/I0321070-Muflih-Prokom/Exercise-03/03_Tipe%20Data%20Koleksi.ipynb#ch0000010?line=0'>1</a>\u001b[0m \u001b[39m#SOAL-5\u001b[39;00m\n\u001b[0;32m      <a href='vscode-notebook-cell:/c%3A/Users/Muflih%20Aufa%20Bekti/OneDrive/Documents/AUFA/SEMESTER%202/PRAKTIKUM%20PROGRAM%20KOMPUTER/I0321070-Muflih-Prokom/Exercise-03/03_Tipe%20Data%20Koleksi.ipynb#ch0000010?line=1'>2</a>\u001b[0m \u001b[39m#Kerjakan disini\u001b[39;00m\n\u001b[0;32m      <a href='vscode-notebook-cell:/c%3A/Users/Muflih%20Aufa%20Bekti/OneDrive/Documents/AUFA/SEMESTER%202/PRAKTIKUM%20PROGRAM%20KOMPUTER/I0321070-Muflih-Prokom/Exercise-03/03_Tipe%20Data%20Koleksi.ipynb#ch0000010?line=2'>3</a>\u001b[0m \u001b[39mprint\u001b[39m(\u001b[39m\"\u001b[39m\u001b[39mBIODATA\u001b[39m\u001b[39m\\n\u001b[39;00m\u001b[39m_____________\u001b[39m\u001b[39m\\n\u001b[39;00m\u001b[39mNama\u001b[39m\u001b[39m\\t\u001b[39;00m\u001b[39m:\u001b[39m\u001b[39m\"\u001b[39m, biodata[\u001b[39m0\u001b[39m],\u001b[39m\"\u001b[39m\u001b[39m\\n\u001b[39;00m\u001b[39mNIM\u001b[39m\u001b[39m\\t\u001b[39;00m\u001b[39m:\u001b[39m\u001b[39m\"\u001b[39m,biodata[\u001b[39m1\u001b[39m],\n\u001b[1;32m----> <a href='vscode-notebook-cell:/c%3A/Users/Muflih%20Aufa%20Bekti/OneDrive/Documents/AUFA/SEMESTER%202/PRAKTIKUM%20PROGRAM%20KOMPUTER/I0321070-Muflih-Prokom/Exercise-03/03_Tipe%20Data%20Koleksi.ipynb#ch0000010?line=3'>4</a>\u001b[0m         \u001b[39m\"\u001b[39m\u001b[39m\\n\u001b[39;00m\u001b[39mUSIA\u001b[39m\u001b[39m\\t\u001b[39;00m\u001b[39m:\u001b[39m\u001b[39m\"\u001b[39m, biodata[\u001b[39m2\u001b[39m], \u001b[39m\"\u001b[39m\u001b[39m\\n\u001b[39;00m\u001b[39mAsal\u001b[39m\u001b[39m\\t\u001b[39;00m\u001b[39m:\u001b[39m\u001b[39m\"\u001b[39m,biodata[\u001b[39m3\u001b[39m], \u001b[39m\"\u001b[39m\u001b[39m\\n\u001b[39;00m\u001b[39mHobi\u001b[39m\u001b[39m\\t\u001b[39;00m\u001b[39m:\u001b[39m\u001b[39m\"\u001b[39m,biodata[\u001b[39m4\u001b[39;49m])\n",
      "\u001b[1;31mIndexError\u001b[0m: list index out of range"
     ]
    }
   ],
   "source": [
    "#SOAL-5\n",
    "#Kerjakan disini\n",
    "print(\"BIODATA\\n_____________\\nNama\\t:\", biodata[0],\"\\nNIM\\t:\",biodata[1],\n",
    "        \"\\nUSIA\\t:\", biodata[2], \"\\nAsal\\t:\",biodata[3], \"\\nHobi\\t:\",biodata[4])"
   ]
  },
  {
   "cell_type": "markdown",
   "metadata": {},
   "source": [
    "### DICTIONARY"
   ]
  },
  {
   "cell_type": "markdown",
   "metadata": {},
   "source": [
    "Berikut merupakan latihan mengenai tipe data dictionary.  \n",
    "Selamat berlatih.  \n",
    "Semangat!!!."
   ]
  },
  {
   "cell_type": "code",
   "execution_count": null,
   "metadata": {},
   "outputs": [],
   "source": [
    "#SILAHKAN ISI CODE RUMPANG BERIKUT SESUAI KONDISI KALIAN\n",
    "biodata = {'nama_depan':'Muflih Aufa','nama_belakang':'Bekti','usia':19,'kota_asal':'Jakarta','hobi':'Bermain game'}\n",
    "print('Nama Lengkap: ' + biodata['___'] + ' ' + biodata['___'])\n",
    "\n",
    "#MENAMBAHKAN KEY&VALUE \"PRODI\" dan \"HOBI\" MASING-MASING\n",
    "biodata['____'] = '____'\n",
    "print(biodata)\n",
    "\n",
    "#MENGUBAH VALUE PADA SEBUAH DICTIONARY\n",
    "biodata['hobi'] = '____'\n",
    "print(biodata)\n",
    "\n",
    "#MENGHAPUS SALAH SATU KEY-VALUE PAIRS\n",
    "___ biodata['kota_asal']\n",
    "print(biodata)\n",
    "\n",
    "\n",
    "\n",
    "\n"
   ]
  },
  {
   "cell_type": "markdown",
   "metadata": {},
   "source": [
    "### Cara Pengumpulan\n",
    "\n",
    "1. Buka *New Terminal*\n",
    "2. Pastikan *path* Terminal adalah folder repositori kalian (NIM-Nama-Prokom).\n",
    "3. Tambahkan file yang akan ditrack dengan `git add <nama file>`. Nama file bisa diubah . (titik)  `git add .`yang artinya semua file dalam folder akan ditrack.\n",
    "4. Lakukan commit perubahan dengan `git commit -m <deskripsi>`.\n",
    "5. Lakukan push dengan `git push -u origin <nama branch>`. Nama branch dapat diketahui dengan `git branch`.\n",
    "6. Pastikan Exercise-02 telah terupload dan dapat diakses di repositori dengan mengaksesnya di browser."
   ]
  }
 ],
 "metadata": {
  "interpreter": {
   "hash": "ac59ebe37160ed0dfa835113d9b8498d9f09ceb179beaac4002f036b9467c963"
  },
  "kernelspec": {
   "display_name": "Python 3.9.8 64-bit",
   "language": "python",
   "name": "python3"
  },
  "language_info": {
   "codemirror_mode": {
    "name": "ipython",
    "version": 3
   },
   "file_extension": ".py",
   "mimetype": "text/x-python",
   "name": "python",
   "nbconvert_exporter": "python",
   "pygments_lexer": "ipython3",
   "version": "3.9.11"
  },
  "orig_nbformat": 4
 },
 "nbformat": 4,
 "nbformat_minor": 2
}
